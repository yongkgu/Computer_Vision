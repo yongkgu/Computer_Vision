{
  "nbformat": 4,
  "nbformat_minor": 0,
  "metadata": {
    "colab": {
      "name": "Image Classification(Fashion MNIST, CIFAR-10) dataset.ipynb",
      "provenance": [],
      "collapsed_sections": [],
      "authorship_tag": "ABX9TyMejzjqoFNDNwT52LIlfc8i",
      "include_colab_link": true
    },
    "kernelspec": {
      "name": "python3",
      "display_name": "Python 3"
    },
    "language_info": {
      "name": "python"
    }
  },
  "cells": [
    {
      "cell_type": "markdown",
      "metadata": {
        "id": "view-in-github",
        "colab_type": "text"
      },
      "source": [
        "<a href=\"https://colab.research.google.com/github/yongkgu/Computer_Vision/blob/main/Image_Classification(Fashion_MNIST%2C_CIFAR_10)_dataset.ipynb\" target=\"_parent\"><img src=\"https://colab.research.google.com/assets/colab-badge.svg\" alt=\"Open In Colab\"/></a>"
      ]
    },
    {
      "cell_type": "code",
      "metadata": {
        "id": "9IBEQVEyszTE",
        "colab": {
          "base_uri": "https://localhost:8080/"
        },
        "outputId": "d8e2e9e1-b854-41f9-a56d-462fd49ac2ae"
      },
      "source": [
        "from google.colab import drive \n",
        "drive.mount('/content/gdrive/')"
      ],
      "execution_count": null,
      "outputs": [
        {
          "output_type": "stream",
          "name": "stdout",
          "text": [
            "Mounted at /content/gdrive/\n"
          ]
        }
      ]
    },
    {
      "cell_type": "markdown",
      "metadata": {
        "id": "dOqhY9b8oK2n"
      },
      "source": [
        "## Image **Classification** "
      ]
    },
    {
      "cell_type": "code",
      "metadata": {
        "colab": {
          "base_uri": "https://localhost:8080/",
          "height": 666
        },
        "id": "xb6AcwUrs0hb",
        "outputId": "4d9f5eb1-45f4-4fe0-ae5a-eb2ca96b0238"
      },
      "source": [
        "import tensorflow as tf\n",
        "import numpy as np\n",
        "import pandas as pd\n",
        "import matplotlib.pyplot as plt\n",
        "\n",
        "from tensorflow.keras import Model\n",
        "from tensorflow.keras import Sequential\n",
        "from tensorflow.keras.utils import to_categorical\n",
        "from tensorflow.keras.preprocessing.image import ImageDataGenerator\n",
        "from tensorflow.keras.layers import Dense, Flatten, Conv2D, MaxPool2D, Dropout,Input\n",
        "\n",
        "# Load fashion MNIST dataset\n",
        "fashion_mnist = tf.keras.datasets.fashion_mnist\n",
        "(train_X,train_Y), (test_X, test_Y) = fashion_mnist.load_data()\n",
        "\n",
        "# Normalize intensities between 0 and 1\n",
        "train_X = train_X / 255.0\n",
        "test_X = test_X / 255.0\n",
        "\n",
        "# 읽기 전용 해제\n",
        "train_Y = train_Y.copy()\n",
        "test_Y = test_Y.copy()\n",
        "\n",
        "# 데이터 셋 수정 (1,4,7,8 -> 0,1,2,3)\n",
        "idx = []\n",
        "for i in range(60000):\n",
        "  if train_Y[i] == 1 or train_Y[i] == 4 or train_Y[i] == 7 or train_Y[i] == 8:\n",
        "    if train_Y[i] == 1:\n",
        "      train_Y[i] = 0\n",
        "    elif train_Y[i] == 4:\n",
        "      train_Y[i] = 1\n",
        "    elif train_Y[i] == 7:\n",
        "      train_Y[i] = 2\n",
        "    elif train_Y[i] == 8:\n",
        "      train_Y[i] = 3    \n",
        "    idx.append(i)\n",
        "\n",
        "train_Y = train_Y[idx]\n",
        "train_X = train_X[idx,:,:]\n",
        "\n",
        "idx2 = []\n",
        "for i in range(10000):\n",
        "  if test_Y[i] == 1 or test_Y[i] == 4 or test_Y[i] == 7 or test_Y[i] == 8:\n",
        "    if test_Y[i] == 1:\n",
        "      test_Y[i] = 0\n",
        "    elif test_Y[i] == 4:\n",
        "      test_Y[i] = 1\n",
        "    elif test_Y[i] == 7:\n",
        "      test_Y[i] = 2\n",
        "    elif test_Y[i] == 8:\n",
        "      test_Y[i] = 3 \n",
        "    idx2.append(i)\n",
        "\n",
        "test_Y = test_Y[idx2]\n",
        "test_X = test_X[idx2,:,:]\n",
        "\n",
        "# Check dataset\n",
        "print(train_X.shape, test_X.shape)\n",
        "print(train_Y.shape, test_Y.shape)\n",
        "print(train_Y, test_Y)\n",
        "\n",
        "# Display\n",
        "plt.figure(figsize=(10, 10))\n",
        "for c in range(16):\n",
        "  plt.subplot(4,4,c+1)\n",
        "  plt.imshow(train_X[c].reshape(28,28), cmap='gray')\n",
        "plt.show()\n",
        "print(train_Y[:16])\n"
      ],
      "execution_count": null,
      "outputs": [
        {
          "output_type": "stream",
          "name": "stdout",
          "text": [
            "(24000, 28, 28) (4000, 28, 28)\n",
            "(24000,) (4000,)\n",
            "[2 2 0 ... 2 3 0] [0 0 0 ... 0 3 0]\n"
          ]
        },
        {
          "output_type": "display_data",
          "data": {
            "image/png": "[encoded data removed]",
            "text/plain": [
              "<Figure size 720x720 with 16 Axes>"
            ]
          },
          "metadata": {
            "needs_background": "light"
          }
        },
        {
          "output_type": "stream",
          "name": "stdout",
          "text": [
            "[2 2 0 1 0 1 3 1 1 1 3 0 2 2 2 3]\n"
          ]
        }
      ]
    },
    {
      "cell_type": "code",
      "metadata": {
        "colab": {
          "base_uri": "https://localhost:8080/"
        },
        "id": "MTZsZVmCayLF",
        "outputId": "4498a8ff-82e9-49ca-8ee7-070192c76eeb"
      },
      "source": [
        "def build_model():\n",
        "  model = Sequential()\n",
        "\n",
        "  input = Input(shape = (28,28,1))\n",
        "  output = Conv2D(filters=32, kernel_size=(3,3))(input)\n",
        "  output = Conv2D(filters=64, kernel_size=(3,3))(output)\n",
        "  output = Conv2D(filters=64, kernel_size=(3,3))(output)\n",
        "  output = Flatten()(output)\n",
        "  output = Dense(units=128,activation='relu')(output)\n",
        "  output = Dense(units=64,activation='relu')(output)\n",
        "  output = Dense(units=4,activation='softmax')(output)\n",
        "\n",
        "  model = Model(inputs = [input], outputs=output)\n",
        "\n",
        "  model.compile(optimizer='adam',\n",
        "                loss='sparse_categorical_crossentropy',\n",
        "                metrics =['accuracy'])\n",
        "  \n",
        "  return model\n",
        "\n",
        "model_ = build_model()\n",
        "model_.summary()"
      ],
      "execution_count": null,
      "outputs": [
        {
          "output_type": "stream",
          "name": "stdout",
          "text": [
            "Model: \"model_3\"\n",
            "_________________________________________________________________\n",
            " Layer (type)                Output Shape              Param #   \n",
            "=================================================================\n",
            " input_4 (InputLayer)        [(None, 28, 28, 1)]       0         \n",
            "                                                                 \n",
            " conv2d_13 (Conv2D)          (None, 26, 26, 32)        320       \n",
            "                                                                 \n",
            " conv2d_14 (Conv2D)          (None, 24, 24, 64)        18496     \n",
            "                                                                 \n",
            " conv2d_15 (Conv2D)          (None, 22, 22, 64)        36928     \n",
            "                                                                 \n",
            " flatten_5 (Flatten)         (None, 30976)             0         \n",
            "                                                                 \n",
            " dense_13 (Dense)            (None, 128)               3965056   \n",
            "                                                                 \n",
            " dense_14 (Dense)            (None, 64)                8256      \n",
            "                                                                 \n",
            " dense_15 (Dense)            (None, 4)                 260       \n",
            "                                                                 \n",
            "=================================================================\n",
            "Total params: 4,029,316\n",
            "Trainable params: 4,029,316\n",
            "Non-trainable params: 0\n",
            "_________________________________________________________________\n"
          ]
        }
      ]
    },
    {
      "cell_type": "code",
      "metadata": {
        "colab": {
          "base_uri": "https://localhost:8080/"
        },
        "id": "OXKaZZ_Z1L51",
        "outputId": "fd2e6d01-c68a-4170-9855-7a139498bf55"
      },
      "source": [
        "hist = model_.fit(train_X,train_Y,\n",
        "                  epochs=25,\n",
        "                  validation_split=0.3,\n",
        "                  batch_size=128)"
      ],
      "execution_count": null,
      "outputs": [
        {
          "output_type": "stream",
          "name": "stdout",
          "text": [
            "Epoch 1/25\n",
            "132/132 [==============================] - 4s 29ms/step - loss: 8.9316e-05 - accuracy: 1.0000 - val_loss: 0.1194 - val_accuracy: 0.9893\n",
            "Epoch 2/25\n",
            "132/132 [==============================] - 4s 27ms/step - loss: 7.4243e-05 - accuracy: 1.0000 - val_loss: 0.1204 - val_accuracy: 0.9896\n",
            "Epoch 3/25\n",
            "132/132 [==============================] - 4s 27ms/step - loss: 6.3468e-05 - accuracy: 1.0000 - val_loss: 0.1213 - val_accuracy: 0.9896\n",
            "Epoch 4/25\n",
            "132/132 [==============================] - 4s 27ms/step - loss: 5.5086e-05 - accuracy: 1.0000 - val_loss: 0.1220 - val_accuracy: 0.9896\n",
            "Epoch 5/25\n",
            "132/132 [==============================] - 4s 27ms/step - loss: 4.7905e-05 - accuracy: 1.0000 - val_loss: 0.1228 - val_accuracy: 0.9894\n",
            "Epoch 6/25\n",
            "132/132 [==============================] - 4s 27ms/step - loss: 4.2496e-05 - accuracy: 1.0000 - val_loss: 0.1235 - val_accuracy: 0.9896\n",
            "Epoch 7/25\n",
            "132/132 [==============================] - 4s 28ms/step - loss: 3.8168e-05 - accuracy: 1.0000 - val_loss: 0.1242 - val_accuracy: 0.9897\n",
            "Epoch 8/25\n",
            "132/132 [==============================] - 4s 28ms/step - loss: 3.4047e-05 - accuracy: 1.0000 - val_loss: 0.1249 - val_accuracy: 0.9897\n",
            "Epoch 9/25\n",
            "132/132 [==============================] - 4s 27ms/step - loss: 3.0428e-05 - accuracy: 1.0000 - val_loss: 0.1256 - val_accuracy: 0.9897\n",
            "Epoch 10/25\n",
            "132/132 [==============================] - 4s 28ms/step - loss: 2.7435e-05 - accuracy: 1.0000 - val_loss: 0.1262 - val_accuracy: 0.9897\n",
            "Epoch 11/25\n",
            "132/132 [==============================] - 4s 29ms/step - loss: 2.4751e-05 - accuracy: 1.0000 - val_loss: 0.1269 - val_accuracy: 0.9897\n",
            "Epoch 12/25\n",
            "132/132 [==============================] - 4s 28ms/step - loss: 2.2501e-05 - accuracy: 1.0000 - val_loss: 0.1275 - val_accuracy: 0.9897\n",
            "Epoch 13/25\n",
            "132/132 [==============================] - 4s 27ms/step - loss: 2.0436e-05 - accuracy: 1.0000 - val_loss: 0.1281 - val_accuracy: 0.9897\n",
            "Epoch 14/25\n",
            "132/132 [==============================] - 4s 27ms/step - loss: 1.8634e-05 - accuracy: 1.0000 - val_loss: 0.1286 - val_accuracy: 0.9897\n",
            "Epoch 15/25\n",
            "132/132 [==============================] - 4s 28ms/step - loss: 1.6932e-05 - accuracy: 1.0000 - val_loss: 0.1293 - val_accuracy: 0.9896\n",
            "Epoch 16/25\n",
            "132/132 [==============================] - 4s 28ms/step - loss: 1.5610e-05 - accuracy: 1.0000 - val_loss: 0.1299 - val_accuracy: 0.9896\n",
            "Epoch 17/25\n",
            "132/132 [==============================] - 4s 27ms/step - loss: 1.4281e-05 - accuracy: 1.0000 - val_loss: 0.1303 - val_accuracy: 0.9896\n",
            "Epoch 18/25\n",
            "132/132 [==============================] - 4s 28ms/step - loss: 1.3053e-05 - accuracy: 1.0000 - val_loss: 0.1309 - val_accuracy: 0.9896\n",
            "Epoch 19/25\n",
            "132/132 [==============================] - 4s 27ms/step - loss: 1.2015e-05 - accuracy: 1.0000 - val_loss: 0.1314 - val_accuracy: 0.9896\n",
            "Epoch 20/25\n",
            "132/132 [==============================] - 4s 27ms/step - loss: 1.1036e-05 - accuracy: 1.0000 - val_loss: 0.1321 - val_accuracy: 0.9896\n",
            "Epoch 21/25\n",
            "132/132 [==============================] - 4s 27ms/step - loss: 1.0197e-05 - accuracy: 1.0000 - val_loss: 0.1325 - val_accuracy: 0.9896\n",
            "Epoch 22/25\n",
            "132/132 [==============================] - 4s 27ms/step - loss: 9.3926e-06 - accuracy: 1.0000 - val_loss: 0.1331 - val_accuracy: 0.9894\n",
            "Epoch 23/25\n",
            "132/132 [==============================] - 4s 27ms/step - loss: 8.7119e-06 - accuracy: 1.0000 - val_loss: 0.1337 - val_accuracy: 0.9896\n",
            "Epoch 24/25\n",
            "132/132 [==============================] - 4s 27ms/step - loss: 8.0457e-06 - accuracy: 1.0000 - val_loss: 0.1342 - val_accuracy: 0.9894\n",
            "Epoch 25/25\n",
            "132/132 [==============================] - 4s 27ms/step - loss: 7.4359e-06 - accuracy: 1.0000 - val_loss: 0.1347 - val_accuracy: 0.9894\n"
          ]
        }
      ]
    },
    {
      "cell_type": "code",
      "metadata": {
        "colab": {
          "base_uri": "https://localhost:8080/",
          "height": 283
        },
        "id": "hS1XOo9inYKY",
        "outputId": "a314ab99-03bf-4538-da00-ff40eedcbec8"
      },
      "source": [
        "# Show training history\n",
        "plt.figure(figsize=(12, 4)), plt.subplot(1, 2, 1)\n",
        "plt.plot(hist.history['loss'], 'b-', label='training')\n",
        "plt.plot(hist.history['val_loss'], 'r--', label='validation')\n",
        "plt.xlabel('Epoch'), plt.ylabel('Loss'), plt.legend()\n",
        "plt.subplot(1, 2, 2)\n",
        "plt.plot(hist.history['accuracy'], 'g-', label='training')\n",
        "plt.plot(hist.history['val_accuracy'], 'k--', label='validation')\n",
        "plt.xlabel('Epoch'), plt.ylabel('Accuracy'), plt.ylim(0.7, 1), plt.legend()\n",
        "plt.show()\n"
      ],
      "execution_count": null,
      "outputs": [
        {
          "output_type": "display_data",
          "data": {
            "image/png": "[encoded data removed]",
            "text/plain": [
              "<Figure size 864x288 with 2 Axes>"
            ]
          },
          "metadata": {
            "needs_background": "light"
          }
        }
      ]
    },
    {
      "cell_type": "code",
      "metadata": {
        "colab": {
          "base_uri": "https://localhost:8080/"
        },
        "id": "1lBUau8gnlAw",
        "outputId": "e63adb94-ffd5-4755-869e-b169c932ec86"
      },
      "source": [
        "# Evaluate the model using the test dataset\n",
        "model_.evaluate(test_X, test_Y, verbose=False)\n"
      ],
      "execution_count": null,
      "outputs": [
        {
          "output_type": "execute_result",
          "data": {
            "text/plain": [
              "[0.11112923175096512, 0.9894999861717224]"
            ]
          },
          "metadata": {},
          "execution_count": 77
        }
      ]
    },
    {
      "cell_type": "code",
      "metadata": {
        "colab": {
          "base_uri": "https://localhost:8080/",
          "height": 258
        },
        "id": "DK6V7Hhfntcv",
        "outputId": "b9eb205d-bafe-4251-89de-3509d15eb8f0"
      },
      "source": [
        "# Evaluate a single image\n",
        "(train_X, train_Y), (test_X, test_Y) = tf.keras.datasets.fashion_mnist.load_data()\n",
        "print(test_Y[:26])\n",
        "\n",
        "img_trouser = test_X[2]\n",
        "img_coat = test_X[6]\n",
        "img_sneaker = test_X[9]\n",
        "img_bag = test_X[18]\n",
        "\n",
        "arr = [img_trouser,img_coat,img_sneaker,img_bag]\n",
        "\n",
        "i=0\n",
        "plt.figure(figsize=(10, 10))\n",
        "for img in arr:\n",
        "  plt.subplot(4,4,i+1)\n",
        "  i = i+1\n",
        "  plt.imshow(img.reshape(28,28), cmap='gray')\n",
        "plt.show()\n",
        "\n",
        "for img in arr:\n",
        "  pre_img = tf.expand_dims(img, axis=0)\n",
        "  pre_img = pre_img/255\n",
        "  pred = model_.predict(pre_img)\n",
        "  print(pred,np.argmax(pred))"
      ],
      "execution_count": null,
      "outputs": [
        {
          "output_type": "stream",
          "name": "stdout",
          "text": [
            "[9 2 1 1 6 1 4 6 5 7 4 5 7 3 4 1 2 4 8 0 2 5 7 9 1 4]\n"
          ]
        },
        {
          "output_type": "display_data",
          "data": {
            "image/png": "[encoded data removed]",
            "text/plain": [
              "<Figure size 720x720 with 4 Axes>"
            ]
          },
          "metadata": {
            "needs_background": "light"
          }
        },
        {
          "output_type": "stream",
          "name": "stdout",
          "text": [
            "[[1.0000000e+00 4.3012506e-27 0.0000000e+00 0.0000000e+00]] 0\n",
            "[[2.6382775e-06 9.9999738e-01 1.5705626e-27 2.1142438e-10]] 1\n",
            "[[4.4662620e-37 7.1640595e-25 1.0000000e+00 1.1917444e-24]] 2\n",
            "[[2.7095304e-25 8.1581849e-23 2.1572203e-25 1.0000000e+00]] 3\n"
          ]
        }
      ]
    },
    {
      "cell_type": "markdown",
      "metadata": {
        "id": "N0ylIeoCoJQ4"
      },
      "source": [
        "# **Image Classification (Lenet-5)**"
      ]
    },
    {
      "cell_type": "code",
      "metadata": {
        "colab": {
          "base_uri": "https://localhost:8080/",
          "height": 666
        },
        "id": "0CJ4RX_tox2I",
        "outputId": "47462650-0708-43c0-b862-fcc89c06cc80"
      },
      "source": [
        "import tensorflow as tf\n",
        "import numpy as np\n",
        "import pandas as pd\n",
        "import matplotlib.pyplot as plt\n",
        "\n",
        "from tensorflow.keras import Model\n",
        "from tensorflow.keras import Sequential\n",
        "from tensorflow.keras.utils import to_categorical\n",
        "from tensorflow.keras.preprocessing.image import ImageDataGenerator\n",
        "from tensorflow.keras.layers import Dense, Flatten, Conv2D, MaxPooling2D, Dropout,Input,Activation,Softmax\n",
        "\n",
        "# Load fashion MNIST dataset\n",
        "fashion_mnist = tf.keras.datasets.fashion_mnist\n",
        "(train_X,train_Y),(test_X,test_Y) = fashion_mnist.load_data()\n",
        "\n",
        "# Normalize intensities between 0 and 1\n",
        "train_X = train_X / 255.0\n",
        "test_X = test_X / 255.0\n",
        "\n",
        "# 읽기 전용 해제\n",
        "train_Y = train_Y.copy()\n",
        "test_Y = test_Y.copy()\n",
        "\n",
        "# 데이터 셋 수정 (1,4,7,8 -> 0,1,2,3)\n",
        "idx = []\n",
        "for i in range(60000):\n",
        "  if train_Y[i] == 1 or train_Y[i] == 4 or train_Y[i] == 7 or train_Y[i] == 8:\n",
        "    if train_Y[i] == 1:\n",
        "      train_Y[i] = 0\n",
        "    elif train_Y[i] == 4:\n",
        "      train_Y[i] = 1\n",
        "    elif train_Y[i] == 7:\n",
        "      train_Y[i] = 2\n",
        "    elif train_Y[i] == 8:\n",
        "      train_Y[i] = 3    \n",
        "    idx.append(i)\n",
        "\n",
        "train_Y = train_Y[idx]\n",
        "train_X = train_X[idx,:,:]\n",
        "\n",
        "idx2 = []\n",
        "for i in range(10000):\n",
        "  if test_Y[i] == 1 or test_Y[i] == 4 or test_Y[i] == 7 or test_Y[i] == 8:\n",
        "    if test_Y[i] == 1:\n",
        "      test_Y[i] = 0\n",
        "    elif test_Y[i] == 4:\n",
        "      test_Y[i] = 1\n",
        "    elif test_Y[i] == 7:\n",
        "      test_Y[i] = 2\n",
        "    elif test_Y[i] == 8:\n",
        "      test_Y[i] = 3 \n",
        "    idx2.append(i)\n",
        "\n",
        "test_Y = test_Y[idx2]\n",
        "test_X = test_X[idx2,:,:]\n",
        "\n",
        "# Check dataset\n",
        "print(train_X.shape, test_X.shape)\n",
        "print(train_Y.shape, test_Y.shape)\n",
        "print(train_Y, test_Y)\n",
        "\n",
        "# Display\n",
        "plt.figure(figsize=(10, 10))\n",
        "for c in range(16):\n",
        "  plt.subplot(4,4,c+1)\n",
        "  plt.imshow(train_X[c].reshape(28,28), cmap='gray')\n",
        "plt.show()\n",
        "print(train_Y[:16])\n"
      ],
      "execution_count": null,
      "outputs": [
        {
          "output_type": "stream",
          "name": "stdout",
          "text": [
            "(24000, 28, 28) (4000, 28, 28)\n",
            "(24000,) (4000,)\n",
            "[2 2 0 ... 2 3 0] [0 0 0 ... 0 3 0]\n"
          ]
        },
        {
          "output_type": "display_data",
          "data": {
            "image/png": "[encoded data removed]",
            "text/plain": [
              "<Figure size 720x720 with 16 Axes>"
            ]
          },
          "metadata": {
            "needs_background": "light"
          }
        },
        {
          "output_type": "stream",
          "name": "stdout",
          "text": [
            "[2 2 0 1 0 1 3 1 1 1 3 0 2 2 2 3]\n"
          ]
        }
      ]
    },
    {
      "cell_type": "code",
      "metadata": {
        "colab": {
          "base_uri": "https://localhost:8080/"
        },
        "id": "YyH33aKTpstn",
        "outputId": "c625e924-185d-41c8-8059-fae517b47b41"
      },
      "source": [
        "def build_model(): #Lenet-5 model\n",
        "  model = Sequential([Conv2D(input_shape=(28,28,1),kernel_size=(5,5),\n",
        "                      strides=(1,1),padding='same',activation='relu',filters=20),\n",
        "                      MaxPooling2D(pool_size=(2,2),strides=(2,2),padding='valid'),\n",
        "                      Conv2D(kernel_size=(5,5),\n",
        "                      strides=(1,1),padding='same',activation='relu',filters=50),\n",
        "                      MaxPooling2D(pool_size=(2,2),strides=(2,2),padding='valid'),\n",
        "                      Flatten(),\n",
        "                      Dense(units=500),\n",
        "                      Activation('relu'),\n",
        "                      Dense(units=4),\n",
        "                      Softmax()\n",
        "                      ])\n",
        "\n",
        "  model.compile(optimizer='adam',\n",
        "                loss='sparse_categorical_crossentropy',\n",
        "                metrics =['acc'])\n",
        "  \n",
        "  return model\n",
        "\n",
        "model_lenet = build_model()\n",
        "model_lenet.summary()"
      ],
      "execution_count": null,
      "outputs": [
        {
          "output_type": "stream",
          "name": "stdout",
          "text": [
            "Model: \"sequential_6\"\n",
            "_________________________________________________________________\n",
            " Layer (type)                Output Shape              Param #   \n",
            "=================================================================\n",
            " conv2d_16 (Conv2D)          (None, 28, 28, 20)        520       \n",
            "                                                                 \n",
            " max_pooling2d_4 (MaxPooling  (None, 14, 14, 20)       0         \n",
            " 2D)                                                             \n",
            "                                                                 \n",
            " conv2d_17 (Conv2D)          (None, 14, 14, 50)        25050     \n",
            "                                                                 \n",
            " max_pooling2d_5 (MaxPooling  (None, 7, 7, 50)         0         \n",
            " 2D)                                                             \n",
            "                                                                 \n",
            " flatten_6 (Flatten)         (None, 2450)              0         \n",
            "                                                                 \n",
            " dense_16 (Dense)            (None, 500)               1225500   \n",
            "                                                                 \n",
            " activation_2 (Activation)   (None, 500)               0         \n",
            "                                                                 \n",
            " dense_17 (Dense)            (None, 4)                 2004      \n",
            "                                                                 \n",
            " softmax_2 (Softmax)         (None, 4)                 0         \n",
            "                                                                 \n",
            "=================================================================\n",
            "Total params: 1,253,074\n",
            "Trainable params: 1,253,074\n",
            "Non-trainable params: 0\n",
            "_________________________________________________________________\n"
          ]
        }
      ]
    },
    {
      "cell_type": "code",
      "metadata": {
        "colab": {
          "base_uri": "https://localhost:8080/"
        },
        "id": "fjyWHEzYrTE3",
        "outputId": "1c2b3319-0395-4f6f-c95c-8eec87eb32e9"
      },
      "source": [
        "# Train model\n",
        "hist_ = model_lenet.fit(train_X,train_Y,\n",
        "                  epochs=25,\n",
        "                  validation_split=0.3,\n",
        "                  batch_size=128)"
      ],
      "execution_count": null,
      "outputs": [
        {
          "output_type": "stream",
          "name": "stdout",
          "text": [
            "Epoch 1/25\n",
            "132/132 [==============================] - 3s 15ms/step - loss: 0.1116 - acc: 0.9637 - val_loss: 0.0392 - val_acc: 0.9869\n",
            "Epoch 2/25\n",
            "132/132 [==============================] - 2s 13ms/step - loss: 0.0355 - acc: 0.9897 - val_loss: 0.0278 - val_acc: 0.9904\n",
            "Epoch 3/25\n",
            "132/132 [==============================] - 2s 13ms/step - loss: 0.0231 - acc: 0.9924 - val_loss: 0.0245 - val_acc: 0.9926\n",
            "Epoch 4/25\n",
            "132/132 [==============================] - 2s 13ms/step - loss: 0.0192 - acc: 0.9941 - val_loss: 0.0244 - val_acc: 0.9925\n",
            "Epoch 5/25\n",
            "132/132 [==============================] - 2s 13ms/step - loss: 0.0121 - acc: 0.9961 - val_loss: 0.0233 - val_acc: 0.9932\n",
            "Epoch 6/25\n",
            "132/132 [==============================] - 2s 13ms/step - loss: 0.0111 - acc: 0.9964 - val_loss: 0.0228 - val_acc: 0.9924\n",
            "Epoch 7/25\n",
            "132/132 [==============================] - 2s 13ms/step - loss: 0.0067 - acc: 0.9980 - val_loss: 0.0249 - val_acc: 0.9924\n",
            "Epoch 8/25\n",
            "132/132 [==============================] - 2s 13ms/step - loss: 0.0070 - acc: 0.9976 - val_loss: 0.0279 - val_acc: 0.9911\n",
            "Epoch 9/25\n",
            "132/132 [==============================] - 2s 13ms/step - loss: 0.0030 - acc: 0.9991 - val_loss: 0.0249 - val_acc: 0.9937\n",
            "Epoch 10/25\n",
            "132/132 [==============================] - 2s 13ms/step - loss: 0.0029 - acc: 0.9990 - val_loss: 0.0238 - val_acc: 0.9936\n",
            "Epoch 11/25\n",
            "132/132 [==============================] - 2s 13ms/step - loss: 0.0014 - acc: 0.9998 - val_loss: 0.0260 - val_acc: 0.9933\n",
            "Epoch 12/25\n",
            "132/132 [==============================] - 2s 13ms/step - loss: 0.0017 - acc: 0.9995 - val_loss: 0.0461 - val_acc: 0.9894\n",
            "Epoch 13/25\n",
            "132/132 [==============================] - 2s 13ms/step - loss: 0.0024 - acc: 0.9992 - val_loss: 0.0462 - val_acc: 0.9862\n",
            "Epoch 14/25\n",
            "132/132 [==============================] - 2s 13ms/step - loss: 0.0029 - acc: 0.9990 - val_loss: 0.0313 - val_acc: 0.9921\n",
            "Epoch 15/25\n",
            "132/132 [==============================] - 2s 13ms/step - loss: 8.3597e-04 - acc: 0.9999 - val_loss: 0.0277 - val_acc: 0.9932\n",
            "Epoch 16/25\n",
            "132/132 [==============================] - 2s 13ms/step - loss: 2.2211e-04 - acc: 1.0000 - val_loss: 0.0282 - val_acc: 0.9937\n",
            "Epoch 17/25\n",
            "132/132 [==============================] - 2s 13ms/step - loss: 6.5255e-05 - acc: 1.0000 - val_loss: 0.0294 - val_acc: 0.9940\n",
            "Epoch 18/25\n",
            "132/132 [==============================] - 2s 13ms/step - loss: 4.5302e-05 - acc: 1.0000 - val_loss: 0.0307 - val_acc: 0.9940\n",
            "Epoch 19/25\n",
            "132/132 [==============================] - 2s 13ms/step - loss: 3.3398e-05 - acc: 1.0000 - val_loss: 0.0315 - val_acc: 0.9939\n",
            "Epoch 20/25\n",
            "132/132 [==============================] - 2s 13ms/step - loss: 2.7632e-05 - acc: 1.0000 - val_loss: 0.0319 - val_acc: 0.9939\n",
            "Epoch 21/25\n",
            "132/132 [==============================] - 2s 13ms/step - loss: 2.3135e-05 - acc: 1.0000 - val_loss: 0.0329 - val_acc: 0.9939\n",
            "Epoch 22/25\n",
            "132/132 [==============================] - 2s 13ms/step - loss: 2.0246e-05 - acc: 1.0000 - val_loss: 0.0330 - val_acc: 0.9942\n",
            "Epoch 23/25\n",
            "132/132 [==============================] - 2s 13ms/step - loss: 1.7685e-05 - acc: 1.0000 - val_loss: 0.0332 - val_acc: 0.9942\n",
            "Epoch 24/25\n",
            "132/132 [==============================] - 2s 13ms/step - loss: 1.5482e-05 - acc: 1.0000 - val_loss: 0.0343 - val_acc: 0.9937\n",
            "Epoch 25/25\n",
            "132/132 [==============================] - 2s 13ms/step - loss: 1.3762e-05 - acc: 1.0000 - val_loss: 0.0344 - val_acc: 0.9937\n"
          ]
        }
      ]
    },
    {
      "cell_type": "code",
      "metadata": {
        "colab": {
          "base_uri": "https://localhost:8080/",
          "height": 283
        },
        "id": "NY1_JssQsncR",
        "outputId": "f5b0d8eb-72d6-4799-8b0f-5ad9001d8f0b"
      },
      "source": [
        "# Show training history\n",
        "plt.figure(figsize=(12, 4)), plt.subplot(1, 2, 1)\n",
        "plt.plot(hist_.history['loss'], 'b-', label='training')\n",
        "plt.plot(hist_.history['val_loss'], 'r--', label='validation')\n",
        "plt.xlabel('Epoch'), plt.ylabel('Loss'), plt.legend()\n",
        "plt.subplot(1, 2, 2)\n",
        "plt.plot(hist_.history['acc'], 'g-', label='training')\n",
        "plt.plot(hist_.history['val_acc'], 'k--', label='validation')\n",
        "plt.xlabel('Epoch'), plt.ylabel('Accuracy'), plt.ylim(0.7, 1), plt.legend()\n",
        "plt.show()"
      ],
      "execution_count": null,
      "outputs": [
        {
          "output_type": "display_data",
          "data": {
            "image/png": "[encoded data removed]",
            "text/plain": [
              "<Figure size 864x288 with 2 Axes>"
            ]
          },
          "metadata": {
            "needs_background": "light"
          }
        }
      ]
    },
    {
      "cell_type": "code",
      "metadata": {
        "colab": {
          "base_uri": "https://localhost:8080/"
        },
        "id": "H9po3Zmcs3JI",
        "outputId": "c7b09639-fc84-4ba8-9385-c928754d7956"
      },
      "source": [
        "# Evaluate the model using the test dataset\n",
        "model_lenet.evaluate(test_X, test_Y, verbose=False)"
      ],
      "execution_count": null,
      "outputs": [
        {
          "output_type": "execute_result",
          "data": {
            "text/plain": [
              "[0.03504906967282295, 0.9937499761581421]"
            ]
          },
          "metadata": {},
          "execution_count": 95
        }
      ]
    },
    {
      "cell_type": "code",
      "metadata": {
        "colab": {
          "base_uri": "https://localhost:8080/",
          "height": 258
        },
        "id": "a0JJdKe3s673",
        "outputId": "e8abc22e-c77c-4a6a-ce81-521d47178f38"
      },
      "source": [
        "# Evaluate a single image\n",
        "(train_X, train_Y), (test_X, test_Y) = tf.keras.datasets.fashion_mnist.load_data()\n",
        "print(test_Y[:26])\n",
        "\n",
        "img_trouser = test_X[2]\n",
        "img_coat = test_X[6]\n",
        "img_sneaker = test_X[9]\n",
        "img_bag = test_X[18]\n",
        "\n",
        "arr = [img_trouser,img_coat,img_sneaker,img_bag]\n",
        "\n",
        "i=0\n",
        "plt.figure(figsize=(10, 10))\n",
        "for img in arr:\n",
        "  plt.subplot(4,4,i+1)\n",
        "  i = i+1\n",
        "  plt.imshow(img.reshape(28,28), cmap='gray')\n",
        "plt.show()\n",
        "\n",
        "for img in arr:\n",
        "  pre_img = tf.expand_dims(img, axis=0)\n",
        "  pre_img = pre_img/255\n",
        "  pred = model_.predict(pre_img)\n",
        "  print(pred,np.argmax(pred))\n",
        "\n"
      ],
      "execution_count": null,
      "outputs": [
        {
          "output_type": "stream",
          "name": "stdout",
          "text": [
            "[9 2 1 1 6 1 4 6 5 7 4 5 7 3 4 1 2 4 8 0 2 5 7 9 1 4]\n"
          ]
        },
        {
          "output_type": "display_data",
          "data": {
            "image/png": "[encoded data removed]",
            "text/plain": [
              "<Figure size 720x720 with 4 Axes>"
            ]
          },
          "metadata": {
            "needs_background": "light"
          }
        },
        {
          "output_type": "stream",
          "name": "stdout",
          "text": [
            "[[1.0000000e+00 4.3012506e-27 0.0000000e+00 0.0000000e+00]] 0\n",
            "[[2.6382775e-06 9.9999738e-01 1.5705626e-27 2.1142438e-10]] 1\n",
            "[[4.4662620e-37 7.1640595e-25 1.0000000e+00 1.1917444e-24]] 2\n",
            "[[2.7095304e-25 8.1581849e-23 2.1572203e-25 1.0000000e+00]] 3\n"
          ]
        }
      ]
    },
    {
      "cell_type": "markdown",
      "metadata": {
        "id": "wIUphkbas8BH"
      },
      "source": [
        "# **Transfer learning (CIFAR-10 Dataset)**\n",
        "\n"
      ]
    },
    {
      "cell_type": "code",
      "metadata": {
        "colab": {
          "base_uri": "https://localhost:8080/"
        },
        "id": "h_XhcGkntLIw",
        "outputId": "abb7e355-2ea1-4f61-dcf8-3bf6c02ed76d"
      },
      "source": [
        "import tensorflow as tf\n",
        "import numpy as np\n",
        "from google.colab.patches import cv_imshow\n",
        "import matplotlib.pyplot as plt\n",
        "\n",
        "# Load CIFAR-10 Dataset\n",
        "(train_X, train_Y), (test_X, test_Y) = tf.keras.datasets.cifar10.load_data()\n",
        "print(train_X.shape, test_X.shape)\n",
        "\n",
        "# 읽기 전용 해제\n",
        "train_Y = train_Y.copy()\n",
        "test_Y = test_Y.copy()\n",
        "\n",
        "# 데이터 셋 수정 (1,4,7,8 -> 0,1,2,3)\n",
        "idx = []\n",
        "for i in range(50000):\n",
        "  if train_Y[i] == 0 or train_Y[i] == 1 or train_Y[i] == 8:\n",
        "    if train_Y[i] == 8:\n",
        "      train_Y[i] = 2    \n",
        "    idx.append(i)\n",
        "\n",
        "train_Y = train_Y[idx]\n",
        "train_X = train_X[idx,:,:]\n",
        "\n",
        "idx2 = []\n",
        "for i in range(10000):\n",
        "  if test_Y[i] == 0 or test_Y[i] == 1 or test_Y[i] == 8:\n",
        "    if test_Y[i] == 8:\n",
        "      test_Y[i] = 2\n",
        "    idx2.append(i)\n",
        "\n",
        "test_Y = test_Y[idx2]\n",
        "test_X = test_X[idx2,:,:]\n",
        "\n",
        "# Check dataset\n",
        "print(train_X.shape, test_X.shape)\n",
        "print(train_Y.shape, test_Y.shape)\n",
        "print(train_Y[:16])\n"
      ],
      "execution_count": null,
      "outputs": [
        {
          "output_type": "stream",
          "name": "stdout",
          "text": [
            "(50000, 32, 32, 3) (10000, 32, 32, 3)\n",
            "(15000, 32, 32, 3) (3000, 32, 32, 3)\n",
            "(15000, 1) (3000, 1)\n",
            "[[1]\n",
            " [1]\n",
            " [2]\n",
            " [0]\n",
            " [0]\n",
            " [1]\n",
            " [0]\n",
            " [1]\n",
            " [1]\n",
            " [1]\n",
            " [0]\n",
            " [1]\n",
            " [1]\n",
            " [2]\n",
            " [1]\n",
            " [1]]\n"
          ]
        }
      ]
    },
    {
      "cell_type": "code",
      "metadata": {
        "colab": {
          "base_uri": "https://localhost:8080/"
        },
        "id": "mCGvVo8dwmAA",
        "outputId": "d356e66b-a461-4246-b2dd-da40fdd55ade"
      },
      "source": [
        "# Preprocessing\n",
        "train_X = tf.keras.applications.vgg16.preprocess_input(train_X)\n",
        "test_X = tf.keras.applications.vgg16.preprocess_input(test_X)\n",
        "\n",
        "# Load VGG16\n",
        "model = tf.keras.applications.VGG16()\n",
        "model.summary()\n",
        "\n",
        "# Load VGG16 with include_top=False\n",
        "model = tf.keras.applications.VGG16(include_top=False)\n",
        "model.summary()\n",
        "\n",
        "# Build a new model using VGG16 (Functional API)\n",
        "base_model = tf.keras.applications.VGG16(input_shape=[32,32,3],\n",
        "include_top=False, weights='imagenet')\n",
        "x = base_model.output\n",
        "x = tf.keras.layers.Flatten()(x)\n",
        "x = tf.keras.layers.Dense(64, activation='relu')(x)\n",
        "predictions = tf.keras.layers.Dense(3, activation='softmax')(x)\n",
        "model = tf.keras.Model(inputs=base_model.input, outputs=predictions)\n",
        "\n",
        "model.summary()\n",
        "\n",
        "# Freeze pretrained layers\n",
        "for layer in model.layers[:19]:\n",
        "  layer.trainable = False\n",
        "for layer in model.layers[19:]:\n",
        "  layer.trainable = True\n",
        "model.summary()\n",
        "\n",
        "# Train model\n",
        "model.compile(optimizer=tf.keras.optimizers.Adam(),\n",
        "loss='sparse_categorical_crossentropy', metrics=['accuracy'])\n",
        "history = model.fit(train_X, train_Y, batch_size=36, epochs=10, validation_split=0.25)"
      ],
      "execution_count": null,
      "outputs": [
        {
          "output_type": "stream",
          "name": "stdout",
          "text": [
            "Downloading data from https://storage.googleapis.com/tensorflow/keras-applications/vgg16/vgg16_weights_tf_dim_ordering_tf_kernels.h5\n",
            "553467904/553467096 [==============================] - 9s 0us/step\n",
            "553476096/553467096 [==============================] - 9s 0us/step\n",
            "Model: \"vgg16\"\n",
            "_________________________________________________________________\n",
            " Layer (type)                Output Shape              Param #   \n",
            "=================================================================\n",
            " input_5 (InputLayer)        [(None, 224, 224, 3)]     0         \n",
            "                                                                 \n",
            " block1_conv1 (Conv2D)       (None, 224, 224, 64)      1792      \n",
            "                                                                 \n",
            " block1_conv2 (Conv2D)       (None, 224, 224, 64)      36928     \n",
            "                                                                 \n",
            " block1_pool (MaxPooling2D)  (None, 112, 112, 64)      0         \n",
            "                                                                 \n",
            " block2_conv1 (Conv2D)       (None, 112, 112, 128)     73856     \n",
            "                                                                 \n",
            " block2_conv2 (Conv2D)       (None, 112, 112, 128)     147584    \n",
            "                                                                 \n",
            " block2_pool (MaxPooling2D)  (None, 56, 56, 128)       0         \n",
            "                                                                 \n",
            " block3_conv1 (Conv2D)       (None, 56, 56, 256)       295168    \n",
            "                                                                 \n",
            " block3_conv2 (Conv2D)       (None, 56, 56, 256)       590080    \n",
            "                                                                 \n",
            " block3_conv3 (Conv2D)       (None, 56, 56, 256)       590080    \n",
            "                                                                 \n",
            " block3_pool (MaxPooling2D)  (None, 28, 28, 256)       0         \n",
            "                                                                 \n",
            " block4_conv1 (Conv2D)       (None, 28, 28, 512)       1180160   \n",
            "                                                                 \n",
            " block4_conv2 (Conv2D)       (None, 28, 28, 512)       2359808   \n",
            "                                                                 \n",
            " block4_conv3 (Conv2D)       (None, 28, 28, 512)       2359808   \n",
            "                                                                 \n",
            " block4_pool (MaxPooling2D)  (None, 14, 14, 512)       0         \n",
            "                                                                 \n",
            " block5_conv1 (Conv2D)       (None, 14, 14, 512)       2359808   \n",
            "                                                                 \n",
            " block5_conv2 (Conv2D)       (None, 14, 14, 512)       2359808   \n",
            "                                                                 \n",
            " block5_conv3 (Conv2D)       (None, 14, 14, 512)       2359808   \n",
            "                                                                 \n",
            " block5_pool (MaxPooling2D)  (None, 7, 7, 512)         0         \n",
            "                                                                 \n",
            " flatten (Flatten)           (None, 25088)             0         \n",
            "                                                                 \n",
            " fc1 (Dense)                 (None, 4096)              102764544 \n",
            "                                                                 \n",
            " fc2 (Dense)                 (None, 4096)              16781312  \n",
            "                                                                 \n",
            " predictions (Dense)         (None, 1000)              4097000   \n",
            "                                                                 \n",
            "=================================================================\n",
            "Total params: 138,357,544\n",
            "Trainable params: 138,357,544\n",
            "Non-trainable params: 0\n",
            "_________________________________________________________________\n",
            "Downloading data from https://storage.googleapis.com/tensorflow/keras-applications/vgg16/vgg16_weights_tf_dim_ordering_tf_kernels_notop.h5\n",
            "58892288/58889256 [==============================] - 1s 0us/step\n",
            "58900480/58889256 [==============================] - 1s 0us/step\n",
            "Model: \"vgg16\"\n",
            "_________________________________________________________________\n",
            " Layer (type)                Output Shape              Param #   \n",
            "=================================================================\n",
            " input_6 (InputLayer)        [(None, None, None, 3)]   0         \n",
            "                                                                 \n",
            " block1_conv1 (Conv2D)       (None, None, None, 64)    1792      \n",
            "                                                                 \n",
            " block1_conv2 (Conv2D)       (None, None, None, 64)    36928     \n",
            "                                                                 \n",
            " block1_pool (MaxPooling2D)  (None, None, None, 64)    0         \n",
            "                                                                 \n",
            " block2_conv1 (Conv2D)       (None, None, None, 128)   73856     \n",
            "                                                                 \n",
            " block2_conv2 (Conv2D)       (None, None, None, 128)   147584    \n",
            "                                                                 \n",
            " block2_pool (MaxPooling2D)  (None, None, None, 128)   0         \n",
            "                                                                 \n",
            " block3_conv1 (Conv2D)       (None, None, None, 256)   295168    \n",
            "                                                                 \n",
            " block3_conv2 (Conv2D)       (None, None, None, 256)   590080    \n",
            "                                                                 \n",
            " block3_conv3 (Conv2D)       (None, None, None, 256)   590080    \n",
            "                                                                 \n",
            " block3_pool (MaxPooling2D)  (None, None, None, 256)   0         \n",
            "                                                                 \n",
            " block4_conv1 (Conv2D)       (None, None, None, 512)   1180160   \n",
            "                                                                 \n",
            " block4_conv2 (Conv2D)       (None, None, None, 512)   2359808   \n",
            "                                                                 \n",
            " block4_conv3 (Conv2D)       (None, None, None, 512)   2359808   \n",
            "                                                                 \n",
            " block4_pool (MaxPooling2D)  (None, None, None, 512)   0         \n",
            "                                                                 \n",
            " block5_conv1 (Conv2D)       (None, None, None, 512)   2359808   \n",
            "                                                                 \n",
            " block5_conv2 (Conv2D)       (None, None, None, 512)   2359808   \n",
            "                                                                 \n",
            " block5_conv3 (Conv2D)       (None, None, None, 512)   2359808   \n",
            "                                                                 \n",
            " block5_pool (MaxPooling2D)  (None, None, None, 512)   0         \n",
            "                                                                 \n",
            "=================================================================\n",
            "Total params: 14,714,688\n",
            "Trainable params: 14,714,688\n",
            "Non-trainable params: 0\n",
            "_________________________________________________________________\n",
            "Model: \"model_4\"\n",
            "_________________________________________________________________\n",
            " Layer (type)                Output Shape              Param #   \n",
            "=================================================================\n",
            " input_7 (InputLayer)        [(None, 32, 32, 3)]       0         \n",
            "                                                                 \n",
            " block1_conv1 (Conv2D)       (None, 32, 32, 64)        1792      \n",
            "                                                                 \n",
            " block1_conv2 (Conv2D)       (None, 32, 32, 64)        36928     \n",
            "                                                                 \n",
            " block1_pool (MaxPooling2D)  (None, 16, 16, 64)        0         \n",
            "                                                                 \n",
            " block2_conv1 (Conv2D)       (None, 16, 16, 128)       73856     \n",
            "                                                                 \n",
            " block2_conv2 (Conv2D)       (None, 16, 16, 128)       147584    \n",
            "                                                                 \n",
            " block2_pool (MaxPooling2D)  (None, 8, 8, 128)         0         \n",
            "                                                                 \n",
            " block3_conv1 (Conv2D)       (None, 8, 8, 256)         295168    \n",
            "                                                                 \n",
            " block3_conv2 (Conv2D)       (None, 8, 8, 256)         590080    \n",
            "                                                                 \n",
            " block3_conv3 (Conv2D)       (None, 8, 8, 256)         590080    \n",
            "                                                                 \n",
            " block3_pool (MaxPooling2D)  (None, 4, 4, 256)         0         \n",
            "                                                                 \n",
            " block4_conv1 (Conv2D)       (None, 4, 4, 512)         1180160   \n",
            "                                                                 \n",
            " block4_conv2 (Conv2D)       (None, 4, 4, 512)         2359808   \n",
            "                                                                 \n",
            " block4_conv3 (Conv2D)       (None, 4, 4, 512)         2359808   \n",
            "                                                                 \n",
            " block4_pool (MaxPooling2D)  (None, 2, 2, 512)         0         \n",
            "                                                                 \n",
            " block5_conv1 (Conv2D)       (None, 2, 2, 512)         2359808   \n",
            "                                                                 \n",
            " block5_conv2 (Conv2D)       (None, 2, 2, 512)         2359808   \n",
            "                                                                 \n",
            " block5_conv3 (Conv2D)       (None, 2, 2, 512)         2359808   \n",
            "                                                                 \n",
            " block5_pool (MaxPooling2D)  (None, 1, 1, 512)         0         \n",
            "                                                                 \n",
            " flatten_7 (Flatten)         (None, 512)               0         \n",
            "                                                                 \n",
            " dense_18 (Dense)            (None, 64)                32832     \n",
            "                                                                 \n",
            " dense_19 (Dense)            (None, 3)                 195       \n",
            "                                                                 \n",
            "=================================================================\n",
            "Total params: 14,747,715\n",
            "Trainable params: 14,747,715\n",
            "Non-trainable params: 0\n",
            "_________________________________________________________________\n",
            "Model: \"model_4\"\n",
            "_________________________________________________________________\n",
            " Layer (type)                Output Shape              Param #   \n",
            "=================================================================\n",
            " input_7 (InputLayer)        [(None, 32, 32, 3)]       0         \n",
            "                                                                 \n",
            " block1_conv1 (Conv2D)       (None, 32, 32, 64)        1792      \n",
            "                                                                 \n",
            " block1_conv2 (Conv2D)       (None, 32, 32, 64)        36928     \n",
            "                                                                 \n",
            " block1_pool (MaxPooling2D)  (None, 16, 16, 64)        0         \n",
            "                                                                 \n",
            " block2_conv1 (Conv2D)       (None, 16, 16, 128)       73856     \n",
            "                                                                 \n",
            " block2_conv2 (Conv2D)       (None, 16, 16, 128)       147584    \n",
            "                                                                 \n",
            " block2_pool (MaxPooling2D)  (None, 8, 8, 128)         0         \n",
            "                                                                 \n",
            " block3_conv1 (Conv2D)       (None, 8, 8, 256)         295168    \n",
            "                                                                 \n",
            " block3_conv2 (Conv2D)       (None, 8, 8, 256)         590080    \n",
            "                                                                 \n",
            " block3_conv3 (Conv2D)       (None, 8, 8, 256)         590080    \n",
            "                                                                 \n",
            " block3_pool (MaxPooling2D)  (None, 4, 4, 256)         0         \n",
            "                                                                 \n",
            " block4_conv1 (Conv2D)       (None, 4, 4, 512)         1180160   \n",
            "                                                                 \n",
            " block4_conv2 (Conv2D)       (None, 4, 4, 512)         2359808   \n",
            "                                                                 \n",
            " block4_conv3 (Conv2D)       (None, 4, 4, 512)         2359808   \n",
            "                                                                 \n",
            " block4_pool (MaxPooling2D)  (None, 2, 2, 512)         0         \n",
            "                                                                 \n",
            " block5_conv1 (Conv2D)       (None, 2, 2, 512)         2359808   \n",
            "                                                                 \n",
            " block5_conv2 (Conv2D)       (None, 2, 2, 512)         2359808   \n",
            "                                                                 \n",
            " block5_conv3 (Conv2D)       (None, 2, 2, 512)         2359808   \n",
            "                                                                 \n",
            " block5_pool (MaxPooling2D)  (None, 1, 1, 512)         0         \n",
            "                                                                 \n",
            " flatten_7 (Flatten)         (None, 512)               0         \n",
            "                                                                 \n",
            " dense_18 (Dense)            (None, 64)                32832     \n",
            "                                                                 \n",
            " dense_19 (Dense)            (None, 3)                 195       \n",
            "                                                                 \n",
            "=================================================================\n",
            "Total params: 14,747,715\n",
            "Trainable params: 33,027\n",
            "Non-trainable params: 14,714,688\n",
            "_________________________________________________________________\n",
            "Epoch 1/10\n",
            "313/313 [==============================] - 11s 30ms/step - loss: 1.6109 - accuracy: 0.7610 - val_loss: 0.7808 - val_accuracy: 0.7915\n",
            "Epoch 2/10\n",
            "313/313 [==============================] - 8s 27ms/step - loss: 0.5060 - accuracy: 0.8358 - val_loss: 0.5984 - val_accuracy: 0.8091\n",
            "Epoch 3/10\n",
            "313/313 [==============================] - 8s 27ms/step - loss: 0.3116 - accuracy: 0.8844 - val_loss: 0.6083 - val_accuracy: 0.8213\n",
            "Epoch 4/10\n",
            "313/313 [==============================] - 8s 27ms/step - loss: 0.2339 - accuracy: 0.9117 - val_loss: 0.5669 - val_accuracy: 0.8368\n",
            "Epoch 5/10\n",
            "313/313 [==============================] - 9s 29ms/step - loss: 0.1776 - accuracy: 0.9330 - val_loss: 0.5821 - val_accuracy: 0.8352\n",
            "Epoch 6/10\n",
            "313/313 [==============================] - 8s 27ms/step - loss: 0.1407 - accuracy: 0.9473 - val_loss: 0.6157 - val_accuracy: 0.8408\n",
            "Epoch 7/10\n",
            "313/313 [==============================] - 8s 27ms/step - loss: 0.1156 - accuracy: 0.9579 - val_loss: 0.6514 - val_accuracy: 0.8392\n",
            "Epoch 8/10\n",
            "313/313 [==============================] - 8s 27ms/step - loss: 0.0883 - accuracy: 0.9690 - val_loss: 0.7108 - val_accuracy: 0.8293\n",
            "Epoch 9/10\n",
            "313/313 [==============================] - 8s 27ms/step - loss: 0.0809 - accuracy: 0.9706 - val_loss: 0.7634 - val_accuracy: 0.8363\n",
            "Epoch 10/10\n",
            "313/313 [==============================] - 8s 27ms/step - loss: 0.0777 - accuracy: 0.9729 - val_loss: 0.7883 - val_accuracy: 0.8357\n"
          ]
        }
      ]
    },
    {
      "cell_type": "code",
      "metadata": {
        "colab": {
          "base_uri": "https://localhost:8080/",
          "height": 283
        },
        "id": "QgYw7K1SZR4i",
        "outputId": "c89ad8d1-c5e0-4811-a01c-9025fd3b64dd"
      },
      "source": [
        "# Show training history\n",
        "plt.figure(figsize=(12, 4)), plt.subplot(1, 2, 1)\n",
        "plt.plot(history.history['loss'], 'b-', label='training')\n",
        "plt.plot(history.history['val_loss'], 'r--', label='validation')\n",
        "plt.xlabel('Epoch'), plt.ylabel('Loss'), plt.legend()\n",
        "plt.subplot(1, 2, 2)\n",
        "plt.plot(history.history['accuracy'], 'g-', label='training')\n",
        "plt.plot(history.history['val_accuracy'], 'k--', label='validation')\n",
        "plt.xlabel('Epoch'), plt.ylabel('Accuracy'), plt.ylim(0.3, 1), plt.legend()\n",
        "plt.show()"
      ],
      "execution_count": null,
      "outputs": [
        {
          "output_type": "display_data",
          "data": {
            "image/png": "[encoded data removed]",
            "text/plain": [
              "<Figure size 864x288 with 2 Axes>"
            ]
          },
          "metadata": {
            "needs_background": "light"
          }
        }
      ]
    },
    {
      "cell_type": "code",
      "metadata": {
        "colab": {
          "base_uri": "https://localhost:8080/"
        },
        "id": "ael0KazHZX0K",
        "outputId": "93e9ac4b-d01c-40ad-d7ad-148710867e23"
      },
      "source": [
        "# Evaluate the model using the test dataset\n",
        "model.evaluate(test_X, test_Y, verbose=False)\n"
      ],
      "execution_count": null,
      "outputs": [
        {
          "output_type": "execute_result",
          "data": {
            "text/plain": [
              "[0.7575015425682068, 0.8376666903495789]"
            ]
          },
          "metadata": {},
          "execution_count": 104
        }
      ]
    }
  ]
}