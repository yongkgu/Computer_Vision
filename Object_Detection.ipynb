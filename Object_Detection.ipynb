{
  "nbformat": 4,
  "nbformat_minor": 0,
  "metadata": {
    "colab": {
      "name": "Object Detection.ipynb",
      "provenance": [],
      "authorship_tag": "ABX9TyOUjdLcVnrQ0NIqHCmIOCGO",
      "include_colab_link": true
    },
    "kernelspec": {
      "name": "python3",
      "display_name": "Python 3"
    },
    "language_info": {
      "name": "python"
    },
    "accelerator": "GPU"
  },
  "cells": [
    {
      "cell_type": "markdown",
      "metadata": {
        "id": "view-in-github",
        "colab_type": "text"
      },
      "source": [
        "<a href=\"https://colab.research.google.com/github/yongkgu/Computer_Vision/blob/main/Object_Detection.ipynb\" target=\"_parent\"><img src=\"https://colab.research.google.com/assets/colab-badge.svg\" alt=\"Open In Colab\"/></a>"
      ]
    },
    {
      "cell_type": "code",
      "execution_count": 1,
      "metadata": {
        "colab": {
          "base_uri": "https://localhost:8080/"
        },
        "id": "n8p3JaOYrbfP",
        "outputId": "fc4650d0-41ce-4d05-d258-3779a8c80f77"
      },
      "outputs": [
        {
          "output_type": "stream",
          "name": "stdout",
          "text": [
            "Mounted at /content/gdrive/\n"
          ]
        }
      ],
      "source": [
        "from google.colab import drive \n",
        "drive.mount('/content/gdrive/')"
      ]
    },
    {
      "cell_type": "markdown",
      "source": [
        "## **Object Detection: Incremental Implementation**"
      ],
      "metadata": {
        "id": "94lTSpGi9o8v"
      }
    },
    {
      "cell_type": "code",
      "source": [
        "# Import libraries\n",
        "import numpy as np\n",
        "import tensorflow as tf\n",
        "import cv2 as cv\n",
        "import random\n",
        "from google.colab.patches import cv_imshow\n",
        "import matplotlib.pyplot as plt"
      ],
      "metadata": {
        "id": "gKElRohx9iTx"
      },
      "execution_count": 2,
      "outputs": []
    },
    {
      "cell_type": "code",
      "source": [
        "# Generate training images and labels\n",
        "N=4000\n",
        "H,W=256,256\n",
        "train_img=np.zeros([N,H,W,3],dtype=np.uint8)\n",
        "train_img.fill(255)\n",
        "train_label_coord=np.zeros([N,2],dtype=np.int32)\n",
        "train_label_size=np.zeros([N,2],dtype=np.int32)\n",
        "train_label_class=np.zeros([N,1],dtype=np.int32)\n",
        "bh,bw=50,50\n",
        "\n",
        "\n",
        "# red(0,0,255), green(0,255,0), blue(255,0,0), yellow(0,255,255)\n",
        "for n in range(N):  \n",
        "  x,y=random.randint(0,H-1),random.randint(0,W-1)\n",
        "  bh,bw=random.randint(int(H/16),int(H/4)),random.randint(int(W/16),int(W/4))\n",
        "  if(x-bw/2<0):\n",
        "    x=x-(x-bw/2)\n",
        "  elif(x+bw/2>W-1):\n",
        "    x=x-(x+bw/2-(W-1))\n",
        "  if(y-bh/2<0): y=y-(y-bh/2)\n",
        "  elif(y+bh/2>H-1):\n",
        "    y=y-(y+bh/2-(H-1))\n",
        "  x=int(x); y=int(y)\n",
        "  train_label_coord[n,0]=x; train_label_coord[n,1]=y\n",
        "  train_label_size[n,0]=bh; train_label_size[n,1]=bw\n",
        "\n",
        "  idx = random.randint(0,3)\n",
        "  train_label_class[n]= idx\n",
        "\n",
        "  red = [0,0,255]; green = [0,255,0]; blue=[255,0,0]; yellow = [0,255,255]\n",
        "  colors_ = [red,green,blue,yellow]\n",
        "  cv.rectangle(train_img[n],(x-int(bw/2),y-int(bh/2)),(x+int(bw/2),y+int(bh/2)), color=colors_[idx], thickness=-1)\n",
        "\n",
        "  \n",
        "# Display some images\n",
        "for n in range(5):\n",
        "  cv_imshow(train_img[n])\n",
        "  print(train_label_class[n])"
      ],
      "metadata": {
        "colab": {
          "base_uri": "https://localhost:8080/",
          "height": 1000
        },
        "id": "saEH_24W9yVT",
        "outputId": "a08fa536-a351-4383-f990-344f340f91f8"
      },
      "execution_count": 8,
      "outputs": [
        {
          "output_type": "display_data",
          "data": {
            "image/png": "[encoded data removed]",
            "text/plain": [
              "<PIL.Image.Image image mode=RGB size=256x256 at 0x7FCD3F636BD0>"
            ]
          },
          "metadata": {}
        },
        {
          "output_type": "stream",
          "name": "stdout",
          "text": [
            "[1]\n"
          ]
        },
        {
          "output_type": "display_data",
          "data": {
            "image/png": "[encoded data removed]",
            "text/plain": [
              "<PIL.Image.Image image mode=RGB size=256x256 at 0x7FCD3F636BD0>"
            ]
          },
          "metadata": {}
        },
        {
          "output_type": "stream",
          "name": "stdout",
          "text": [
            "[2]\n"
          ]
        },
        {
          "output_type": "display_data",
          "data": {
            "image/png": "[encoded data removed]",
            "text/plain": [
              "<PIL.Image.Image image mode=RGB size=256x256 at 0x7FCD3F03B110>"
            ]
          },
          "metadata": {}
        },
        {
          "output_type": "stream",
          "name": "stdout",
          "text": [
            "[3]\n"
          ]
        },
        {
          "output_type": "display_data",
          "data": {
            "image/png": "[encoded data removed]",
            "text/plain": [
              "<PIL.Image.Image image mode=RGB size=256x256 at 0x7FCD3F03B110>"
            ]
          },
          "metadata": {}
        },
        {
          "output_type": "stream",
          "name": "stdout",
          "text": [
            "[0]\n"
          ]
        },
        {
          "output_type": "display_data",
          "data": {
            "image/png": "[encoded data removed]",
            "text/plain": [
              "<PIL.Image.Image image mode=RGB size=256x256 at 0x7FCD3F03B090>"
            ]
          },
          "metadata": {}
        },
        {
          "output_type": "stream",
          "name": "stdout",
          "text": [
            "[3]\n"
          ]
        }
      ]
    },
    {
      "cell_type": "code",
      "source": [
        "# Preprocess data\n",
        "train_img = tf.keras.applications.vgg16.preprocess_input(train_img)\n",
        "train_label_coord=train_label_coord.astype(np.float32)\n",
        "train_label_coord[:,0]=train_label_coord[:,0]/H\n",
        "train_label_coord[:,1]=train_label_coord[:,1]/W\n",
        "train_label_size=train_label_size.astype(np.float32)\n",
        "train_label_size[:,0]=train_label_size[:,0]/(H/4)\n",
        "train_label_size[:,1]=train_label_size[:,1]/(W/4)\n",
        "\n",
        "print(train_label_coord.dtype,train_label_size.dtype,train_label_class.dtype)\n",
        "# Build model\n",
        "base_model = tf.keras.applications.VGG16(input_shape=[H,W,3], include_top=False,weights='imagenet')\n",
        "x = base_model.output\n",
        "x = tf.keras.layers.Flatten()(x)\n",
        "out_coord=tf.keras.layers.Dense(2,activation='sigmoid',name='out_coord')(x)\n",
        "out_size=tf.keras.layers.Dense(2, activation='sigmoid',name='out_size')(x)\n",
        "out_class=tf.keras.layers.Dense(4,activation='softmax',name='out_class')(x)\n",
        "model=tf.keras.Model(inputs=base_model.input,outputs=[out_coord,out_size,out_class])\n",
        "model.summary()\n",
        "\n",
        "# Custom loss functions\n",
        "def coord_loss_func(y_true,y_pred):\n",
        "  loss_coord=tf.keras.losses.mean_squared_error(y_true,y_pred)\n",
        "  return loss_coord\n",
        "def size_loss_func(y_true,y_pred):\n",
        "  loss_size=tf.keras.losses.mean_squared_error(y_true,y_pred)\n",
        "  return loss_size\n",
        "def class_loss_func(y_true,y_pred):\n",
        "  loss_class=tf.keras.losses.sparse_categorical_crossentropy(y_true,y_pred)\n",
        "  return loss_class\n",
        "\n"
      ],
      "metadata": {
        "colab": {
          "base_uri": "https://localhost:8080/"
        },
        "id": "oaenk-m5Kex3",
        "outputId": "8d67372c-8d0c-474c-d723-4076cf80a925"
      },
      "execution_count": 9,
      "outputs": [
        {
          "output_type": "stream",
          "name": "stdout",
          "text": [
            "float32 float32 int32\n",
            "Downloading data from https://storage.googleapis.com/tensorflow/keras-applications/vgg16/vgg16_weights_tf_dim_ordering_tf_kernels_notop.h5\n",
            "58892288/58889256 [==============================] - 1s 0us/step\n",
            "58900480/58889256 [==============================] - 1s 0us/step\n",
            "Model: \"model\"\n",
            "__________________________________________________________________________________________________\n",
            " Layer (type)                   Output Shape         Param #     Connected to                     \n",
            "==================================================================================================\n",
            " input_1 (InputLayer)           [(None, 256, 256, 3  0           []                               \n",
            "                                )]                                                                \n",
            "                                                                                                  \n",
            " block1_conv1 (Conv2D)          (None, 256, 256, 64  1792        ['input_1[0][0]']                \n",
            "                                )                                                                 \n",
            "                                                                                                  \n",
            " block1_conv2 (Conv2D)          (None, 256, 256, 64  36928       ['block1_conv1[0][0]']           \n",
            "                                )                                                                 \n",
            "                                                                                                  \n",
            " block1_pool (MaxPooling2D)     (None, 128, 128, 64  0           ['block1_conv2[0][0]']           \n",
            "                                )                                                                 \n",
            "                                                                                                  \n",
            " block2_conv1 (Conv2D)          (None, 128, 128, 12  73856       ['block1_pool[0][0]']            \n",
            "                                8)                                                                \n",
            "                                                                                                  \n",
            " block2_conv2 (Conv2D)          (None, 128, 128, 12  147584      ['block2_conv1[0][0]']           \n",
            "                                8)                                                                \n",
            "                                                                                                  \n",
            " block2_pool (MaxPooling2D)     (None, 64, 64, 128)  0           ['block2_conv2[0][0]']           \n",
            "                                                                                                  \n",
            " block3_conv1 (Conv2D)          (None, 64, 64, 256)  295168      ['block2_pool[0][0]']            \n",
            "                                                                                                  \n",
            " block3_conv2 (Conv2D)          (None, 64, 64, 256)  590080      ['block3_conv1[0][0]']           \n",
            "                                                                                                  \n",
            " block3_conv3 (Conv2D)          (None, 64, 64, 256)  590080      ['block3_conv2[0][0]']           \n",
            "                                                                                                  \n",
            " block3_pool (MaxPooling2D)     (None, 32, 32, 256)  0           ['block3_conv3[0][0]']           \n",
            "                                                                                                  \n",
            " block4_conv1 (Conv2D)          (None, 32, 32, 512)  1180160     ['block3_pool[0][0]']            \n",
            "                                                                                                  \n",
            " block4_conv2 (Conv2D)          (None, 32, 32, 512)  2359808     ['block4_conv1[0][0]']           \n",
            "                                                                                                  \n",
            " block4_conv3 (Conv2D)          (None, 32, 32, 512)  2359808     ['block4_conv2[0][0]']           \n",
            "                                                                                                  \n",
            " block4_pool (MaxPooling2D)     (None, 16, 16, 512)  0           ['block4_conv3[0][0]']           \n",
            "                                                                                                  \n",
            " block5_conv1 (Conv2D)          (None, 16, 16, 512)  2359808     ['block4_pool[0][0]']            \n",
            "                                                                                                  \n",
            " block5_conv2 (Conv2D)          (None, 16, 16, 512)  2359808     ['block5_conv1[0][0]']           \n",
            "                                                                                                  \n",
            " block5_conv3 (Conv2D)          (None, 16, 16, 512)  2359808     ['block5_conv2[0][0]']           \n",
            "                                                                                                  \n",
            " block5_pool (MaxPooling2D)     (None, 8, 8, 512)    0           ['block5_conv3[0][0]']           \n",
            "                                                                                                  \n",
            " flatten (Flatten)              (None, 32768)        0           ['block5_pool[0][0]']            \n",
            "                                                                                                  \n",
            " out_coord (Dense)              (None, 2)            65538       ['flatten[0][0]']                \n",
            "                                                                                                  \n",
            " out_size (Dense)               (None, 2)            65538       ['flatten[0][0]']                \n",
            "                                                                                                  \n",
            " out_class (Dense)              (None, 4)            131076      ['flatten[0][0]']                \n",
            "                                                                                                  \n",
            "==================================================================================================\n",
            "Total params: 14,976,840\n",
            "Trainable params: 14,976,840\n",
            "Non-trainable params: 0\n",
            "__________________________________________________________________________________________________\n"
          ]
        }
      ]
    },
    {
      "cell_type": "code",
      "source": [
        "# Train and save model\n",
        "model.compile(optimizer=tf.keras.optimizers.Adam(learning_rate=0.0001),\n",
        "loss={'out_coord':coord_loss_func,'out_size':size_loss_func,'out_class':class_loss_func},\n",
        "loss_weights={'out_coord':4,'out_size':1,'out_class':1})\n",
        "\n",
        "history = model.fit(x=train_img,\n",
        "y={'out_coord':train_label_coord,'out_size':train_label_size,'out_class':train_label_class},epochs=20,batch_size=50,validation_split=0.25)\n",
        "model.save('model')"
      ],
      "metadata": {
        "colab": {
          "base_uri": "https://localhost:8080/"
        },
        "id": "seHQf8iZMijj",
        "outputId": "fb20fe70-47e4-4e57-9e35-624edf51b2dc"
      },
      "execution_count": 10,
      "outputs": [
        {
          "output_type": "stream",
          "name": "stdout",
          "text": [
            "Epoch 1/20\n",
            "60/60 [==============================] - 136s 2s/step - loss: 0.9601 - out_coord_loss: 0.0406 - out_size_loss: 0.0779 - out_class_loss: 0.7198 - val_loss: 0.1723 - val_out_coord_loss: 0.0204 - val_out_size_loss: 0.0638 - val_out_class_loss: 0.0269\n",
            "Epoch 2/20\n",
            "60/60 [==============================] - 110s 2s/step - loss: 0.0910 - out_coord_loss: 0.0093 - out_size_loss: 0.0425 - out_class_loss: 0.0113 - val_loss: 0.0492 - val_out_coord_loss: 0.0042 - val_out_size_loss: 0.0273 - val_out_class_loss: 0.0051\n",
            "Epoch 3/20\n",
            "60/60 [==============================] - 110s 2s/step - loss: 0.0325 - out_coord_loss: 0.0033 - out_size_loss: 0.0167 - out_class_loss: 0.0025 - val_loss: 0.0233 - val_out_coord_loss: 0.0025 - val_out_size_loss: 0.0102 - val_out_class_loss: 0.0031\n",
            "Epoch 4/20\n",
            "60/60 [==============================] - 110s 2s/step - loss: 0.0144 - out_coord_loss: 0.0018 - out_size_loss: 0.0060 - out_class_loss: 0.0011 - val_loss: 0.0130 - val_out_coord_loss: 0.0014 - val_out_size_loss: 0.0057 - val_out_class_loss: 0.0016\n",
            "Epoch 5/20\n",
            "60/60 [==============================] - 110s 2s/step - loss: 0.0081 - out_coord_loss: 9.9756e-04 - out_size_loss: 0.0035 - out_class_loss: 5.6158e-04 - val_loss: 0.0090 - val_out_coord_loss: 0.0011 - val_out_size_loss: 0.0040 - val_out_class_loss: 6.2105e-04\n",
            "Epoch 6/20\n",
            "60/60 [==============================] - 111s 2s/step - loss: 0.0058 - out_coord_loss: 7.1280e-04 - out_size_loss: 0.0026 - out_class_loss: 3.5622e-04 - val_loss: 0.0072 - val_out_coord_loss: 9.4334e-04 - val_out_size_loss: 0.0030 - val_out_class_loss: 4.7719e-04\n",
            "Epoch 7/20\n",
            "60/60 [==============================] - 111s 2s/step - loss: 0.0044 - out_coord_loss: 5.4655e-04 - out_size_loss: 0.0020 - out_class_loss: 2.7144e-04 - val_loss: 0.0074 - val_out_coord_loss: 8.7096e-04 - val_out_size_loss: 0.0036 - val_out_class_loss: 3.7923e-04\n",
            "Epoch 8/20\n",
            "60/60 [==============================] - 111s 2s/step - loss: 0.0036 - out_coord_loss: 4.2451e-04 - out_size_loss: 0.0017 - out_class_loss: 2.0438e-04 - val_loss: 0.0059 - val_out_coord_loss: 8.1096e-04 - val_out_size_loss: 0.0023 - val_out_class_loss: 3.2523e-04\n",
            "Epoch 9/20\n",
            "60/60 [==============================] - 110s 2s/step - loss: 0.0028 - out_coord_loss: 3.1928e-04 - out_size_loss: 0.0013 - out_class_loss: 1.5581e-04 - val_loss: 0.0049 - val_out_coord_loss: 6.1849e-04 - val_out_size_loss: 0.0022 - val_out_class_loss: 2.1488e-04\n",
            "Epoch 10/20\n",
            "60/60 [==============================] - 110s 2s/step - loss: 0.0024 - out_coord_loss: 2.8194e-04 - out_size_loss: 0.0011 - out_class_loss: 1.2521e-04 - val_loss: 0.0044 - val_out_coord_loss: 5.8733e-04 - val_out_size_loss: 0.0019 - val_out_class_loss: 1.8101e-04\n",
            "Epoch 11/20\n",
            "60/60 [==============================] - 110s 2s/step - loss: 0.0022 - out_coord_loss: 2.6556e-04 - out_size_loss: 0.0010 - out_class_loss: 1.0902e-04 - val_loss: 0.0043 - val_out_coord_loss: 5.8140e-04 - val_out_size_loss: 0.0018 - val_out_class_loss: 1.6533e-04\n",
            "Epoch 12/20\n",
            "60/60 [==============================] - 110s 2s/step - loss: 0.0020 - out_coord_loss: 2.3411e-04 - out_size_loss: 9.4279e-04 - out_class_loss: 9.8955e-05 - val_loss: 0.0040 - val_out_coord_loss: 5.4110e-04 - val_out_size_loss: 0.0017 - val_out_class_loss: 1.3635e-04\n",
            "Epoch 13/20\n",
            "60/60 [==============================] - 110s 2s/step - loss: 0.0017 - out_coord_loss: 2.1595e-04 - out_size_loss: 7.8290e-04 - out_class_loss: 8.5679e-05 - val_loss: 0.0036 - val_out_coord_loss: 5.1598e-04 - val_out_size_loss: 0.0015 - val_out_class_loss: 1.1612e-04\n",
            "Epoch 14/20\n",
            "60/60 [==============================] - 110s 2s/step - loss: 0.0015 - out_coord_loss: 1.8162e-04 - out_size_loss: 6.5666e-04 - out_class_loss: 7.2754e-05 - val_loss: 0.0036 - val_out_coord_loss: 4.8756e-04 - val_out_size_loss: 0.0015 - val_out_class_loss: 1.3831e-04\n",
            "Epoch 15/20\n",
            "60/60 [==============================] - 110s 2s/step - loss: 0.0017 - out_coord_loss: 2.3548e-04 - out_size_loss: 7.0543e-04 - out_class_loss: 6.9982e-05 - val_loss: 0.0038 - val_out_coord_loss: 5.4755e-04 - val_out_size_loss: 0.0015 - val_out_class_loss: 1.0889e-04\n",
            "Epoch 16/20\n",
            "60/60 [==============================] - 110s 2s/step - loss: 0.0020 - out_coord_loss: 2.8005e-04 - out_size_loss: 7.5433e-04 - out_class_loss: 8.3297e-05 - val_loss: 0.0039 - val_out_coord_loss: 5.4009e-04 - val_out_size_loss: 0.0016 - val_out_class_loss: 1.4795e-04\n",
            "Epoch 17/20\n",
            "60/60 [==============================] - 110s 2s/step - loss: 0.0015 - out_coord_loss: 2.0941e-04 - out_size_loss: 5.9656e-04 - out_class_loss: 7.2572e-05 - val_loss: 0.0033 - val_out_coord_loss: 4.5500e-04 - val_out_size_loss: 0.0013 - val_out_class_loss: 9.5193e-05\n",
            "Epoch 18/20\n",
            "60/60 [==============================] - 110s 2s/step - loss: 0.0012 - out_coord_loss: 1.6613e-04 - out_size_loss: 5.2730e-04 - out_class_loss: 5.5924e-05 - val_loss: 0.0030 - val_out_coord_loss: 4.0765e-04 - val_out_size_loss: 0.0013 - val_out_class_loss: 9.4357e-05\n",
            "Epoch 19/20\n",
            "60/60 [==============================] - 110s 2s/step - loss: 0.0011 - out_coord_loss: 1.4721e-04 - out_size_loss: 4.8029e-04 - out_class_loss: 5.0347e-05 - val_loss: 0.0029 - val_out_coord_loss: 4.3670e-04 - val_out_size_loss: 0.0011 - val_out_class_loss: 7.6985e-05\n",
            "Epoch 20/20\n",
            "60/60 [==============================] - 110s 2s/step - loss: 0.0010 - out_coord_loss: 1.3177e-04 - out_size_loss: 4.4901e-04 - out_class_loss: 4.5262e-05 - val_loss: 0.0028 - val_out_coord_loss: 3.7613e-04 - val_out_size_loss: 0.0012 - val_out_class_loss: 7.0778e-05\n",
            "INFO:tensorflow:Assets written to: model/assets\n"
          ]
        }
      ]
    },
    {
      "cell_type": "code",
      "source": [
        "# Show training history\n",
        "plt.figure()\n",
        "plt.plot(history.history['loss'], 'b-', label='training')\n",
        "plt.plot(history.history['val_loss'], 'r--', label='validation')\n",
        "plt.xlabel('Epoch'), plt.ylabel('Loss'), plt.legend()\n",
        "plt.show()"
      ],
      "metadata": {
        "colab": {
          "base_uri": "https://localhost:8080/",
          "height": 282
        },
        "id": "bIMm4XCOPcB_",
        "outputId": "571a6720-b777-4daa-aa8d-e9671a017c08"
      },
      "execution_count": 11,
      "outputs": [
        {
          "output_type": "display_data",
          "data": {
            "image/png": "[encoded data removed]",
            "text/plain": [
              "<Figure size 432x288 with 1 Axes>"
            ]
          },
          "metadata": {
            "needs_background": "light"
          }
        }
      ]
    },
    {
      "cell_type": "code",
      "source": [
        "# Generate test images and labels\n",
        "N=20\n",
        "H,W=256,256\n",
        "test_img=np.zeros([N,H,W,3],dtype=np.uint8)\n",
        "test_img.fill(255)\n",
        "test_label_coord=np.zeros([N,2],dtype=np.int32)\n",
        "test_label_size=np.zeros([N,2],dtype=np.int32)\n",
        "test_label_class=np.zeros([N,1],dtype=np.int32)\n",
        "\n",
        "for n in range(N):\n",
        "  x,y=random.randint(0,H-1),random.randint(0,W-1)\n",
        "  bh,bw=random.randint(int(H/16),int(H/4)),random.randint(int(W/16),int(W/4))\n",
        "  if(x-bw/2<0):\n",
        "    x=x-(x-bw/2)\n",
        "  elif(x+bw/2>W-1): \n",
        "    x=x-(x+bw/2-(W-1))\n",
        "  if(y-bh/2<0):\n",
        "    y=y-(y-bh/2)\n",
        "  elif(y+bh/2>H-1):\n",
        "    y=y-(y+bh/2-(H-1))\n",
        "  x=int(x); y=int(y)\n",
        "  test_label_coord[n,0]=x; test_label_coord[n,1]=y\n",
        "  test_label_size[n,0]=bh; test_label_size[n,1]=bw\n",
        "  idx = random.randint(0,3)\n",
        "  test_label_class[n]= idx # 0: red, 1: green, 2: blue, 3: yellow\n",
        "  cv.rectangle(test_img[n], (x-int(bw/2),y-int(bh/2)), (x+int(bw/2),y+int(bh/2)),\n",
        "  color=colors_[idx],thickness=-1)\n"
      ],
      "metadata": {
        "id": "ibWrM3liPgkd"
      },
      "execution_count": null,
      "outputs": []
    },
    {
      "cell_type": "code",
      "source": [
        "# Preprocess test images\n",
        "test_img_ = tf.keras.applications.vgg16.preprocess_input(test_img)\n",
        "\n",
        "# Predict object locations in test images\n",
        "model=tf.keras.models.load_model('model',\n",
        "custom_objects={'coord_loss_func':coord_loss_func,\n",
        "'size_loss_func':size_loss_func,\n",
        "'class_loss_func':class_loss_func})\n",
        "pred_coord,pred_size,pred_class=model.predict(test_img_)\n",
        "pred_coord[:,0]=pred_coord[:,0]*H\n",
        "pred_coord[:,1]=pred_coord[:,1]*W\n",
        "pred_size[:,0]=pred_size[:,0]*(H/4)\n",
        "pred_size[:,1]=pred_size[:,1]*(W/4)\n",
        "pred_class=np.argmax(pred_class,axis=1)\n",
        "\n",
        "# Display prediction results\n",
        "for n in range(16):\n",
        "\n",
        "  x=pred_coord[n,0].astype('int')\n",
        "  y=pred_coord[n,1].astype('int')\n",
        "  bh=pred_size[n,0].astype('int')\n",
        "  bw=pred_size[n,1].astype('int')\n",
        "  obj_class=pred_class[n]\n",
        "  \n",
        "  cv.rectangle(test_img[n],(x-int(bw/2),y-int(bh/2)),(x+int(bw/2),y+int(bh/2)),\n",
        "  color=(0,0,0),thickness=1) # size estimation\n",
        "  \n",
        "  # color estimation\n",
        "  if obj_class==0: # red\n",
        "    cv.rectangle(test_img[n],(0,0),(W-1,H-1),color=(0,0,255),thickness=1)\n",
        "  \n",
        "  elif obj_class==1: # green\n",
        "    cv.rectangle(test_img[n],(0,0),(W-1,H-1),color=(0,255,0),thickness=1)\n",
        "  \n",
        "  elif obj_class==2: #blue\n",
        "    cv.rectangle(test_img[n],(0,0),(W-1,H-1),color=(255,0,0),thickness=1)\n",
        "  \n",
        "  else: #yellow \n",
        "    cv.rectangle(test_img[n],(0,0),(W-1,H-1),color=(0,255,255),thickness=1)\n",
        "    \n",
        "  #coord estimation\n",
        "  cv.circle(test_img[n],center=(x,y),radius=2,color=(0,0,0),thickness=2)\n",
        "  cv_imshow(test_img[n])\n",
        "\n"
      ],
      "metadata": {
        "colab": {
          "base_uri": "https://localhost:8080/",
          "height": 1000
        },
        "id": "4PVmTiS8Qxto",
        "outputId": "bbf910bf-d6c3-4a17-909a-4ca1e4a104e6"
      },
      "execution_count": 17,
      "outputs": [
        {
          "output_type": "display_data",
          "data": {
            "image/png": "[encoded data removed]",
            "text/plain": [
              "<PIL.Image.Image image mode=RGB size=256x256 at 0x7FCC4F033990>"
            ]
          },
          "metadata": {}
        },
        {
          "output_type": "display_data",
          "data": {
            "image/png": "[encoded data removed]",
            "text/plain": [
              "<PIL.Image.Image image mode=RGB size=256x256 at 0x7FCCC60C9050>"
            ]
          },
          "metadata": {}
        },
        {
          "output_type": "display_data",
          "data": {
            "image/png": "[encoded data removed]",
            "text/plain": [
              "<PIL.Image.Image image mode=RGB size=256x256 at 0x7FCCC61190D0>"
            ]
          },
          "metadata": {}
        },
        {
          "output_type": "display_data",
          "data": {
            "image/png": "[encoded data removed]",
            "text/plain": [
              "<PIL.Image.Image image mode=RGB size=256x256 at 0x7FCCC61191D0>"
            ]
          },
          "metadata": {}
        },
        {
          "output_type": "display_data",
          "data": {
            "image/png": "[encoded data removed]",
            "text/plain": [
              "<PIL.Image.Image image mode=RGB size=256x256 at 0x7FCCC60C9050>"
            ]
          },
          "metadata": {}
        },
        {
          "output_type": "display_data",
          "data": {
            "image/png": "[encoded data removed]",
            "text/plain": [
              "<PIL.Image.Image image mode=RGB size=256x256 at 0x7FCC4EF6CC90>"
            ]
          },
          "metadata": {}
        },
        {
          "output_type": "display_data",
          "data": {
            "image/png": "[encoded data removed]",
            "text/plain": [
              "<PIL.Image.Image image mode=RGB size=256x256 at 0x7FCCC60C9050>"
            ]
          },
          "metadata": {}
        },
        {
          "output_type": "display_data",
          "data": {
            "image/png": "[encoded data removed]",
            "text/plain": [
              "<PIL.Image.Image image mode=RGB size=256x256 at 0x7FCCC61EAB50>"
            ]
          },
          "metadata": {}
        },
        {
          "output_type": "display_data",
          "data": {
            "image/png": "[encoded data removed]",
            "text/plain": [
              "<PIL.Image.Image image mode=RGB size=256x256 at 0x7FCCC6119A50>"
            ]
          },
          "metadata": {}
        },
        {
          "output_type": "display_data",
          "data": {
            "image/png": "[encoded data removed]",
            "text/plain": [
              "<PIL.Image.Image image mode=RGB size=256x256 at 0x7FCCC61EAB50>"
            ]
          },
          "metadata": {}
        },
        {
          "output_type": "display_data",
          "data": {
            "image/png": "[encoded data removed]",
            "text/plain": [
              "<PIL.Image.Image image mode=RGB size=256x256 at 0x7FCC4F033A10>"
            ]
          },
          "metadata": {}
        },
        {
          "output_type": "display_data",
          "data": {
            "image/png": "[encoded data removed]",
            "text/plain": [
              "<PIL.Image.Image image mode=RGB size=256x256 at 0x7FCCC6119D50>"
            ]
          },
          "metadata": {}
        },
        {
          "output_type": "display_data",
          "data": {
            "image/png": "[encoded data removed]",
            "text/plain": [
              "<PIL.Image.Image image mode=RGB size=256x256 at 0x7FCCC34A8450>"
            ]
          },
          "metadata": {}
        },
        {
          "output_type": "display_data",
          "data": {
            "image/png": "[encoded data removed]",
            "text/plain": [
              "<PIL.Image.Image image mode=RGB size=256x256 at 0x7FCCC61191D0>"
            ]
          },
          "metadata": {}
        },
        {
          "output_type": "display_data",
          "data": {
            "image/png": "[encoded data removed]",
            "text/plain": [
              "<PIL.Image.Image image mode=RGB size=256x256 at 0x7FCCC60B8350>"
            ]
          },
          "metadata": {}
        },
        {
          "output_type": "display_data",
          "data": {
            "image/png": "[encoded data removed]",
            "text/plain": [
              "<PIL.Image.Image image mode=RGB size=256x256 at 0x7FCCC61191D0>"
            ]
          },
          "metadata": {}
        }
      ]
    }
  ]
}